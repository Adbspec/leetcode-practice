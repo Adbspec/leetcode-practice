{
 "cells": [
  {
   "cell_type": "code",
   "execution_count": 27,
   "metadata": {},
   "outputs": [],
   "source": [
    "class Solution:\n",
    "    def removeDuplicates(self, nums):\n",
    "        n = set()\n",
    "        k = 0\n",
    "        for i in range(len(nums)):\n",
    "            if nums[i] not in n:\n",
    "                nums[k] = nums[i]\n",
    "                k += 1\n",
    "                n.add(nums[i])\n",
    "        return k\n"
   ]
  },
  {
   "cell_type": "code",
   "execution_count": 28,
   "metadata": {},
   "outputs": [
    {
     "name": "stdout",
     "output_type": "stream",
     "text": [
      "2 5\n"
     ]
    }
   ],
   "source": [
    "solution = Solution()\n",
    "\n",
    "# input1 = [1,1,2] \n",
    "# Output: 2\n",
    "\n",
    "# input2 = [0,0,1,1,1,2,2,3,3,4]\n",
    "# Output: 5\n",
    "input1 = [1,1,2] \n",
    "input2 = [0,0,1,1,1,2,2,3,3,4]\n",
    "print(solution.removeDuplicates(input1),solution.removeDuplicates(input2))"
   ]
  },
  {
   "cell_type": "markdown",
   "metadata": {},
   "source": [
    "<h2>Remove Duplicates Function - Explanation</h2>\n",
    "\n",
    "<h4>Overview:</h4>\n",
    "<p>\n",
    "The function removes duplicate elements from a list of numbers and returns the count of unique elements. The input list is modified in place, with a set used to track unique elements.\n",
    "</p>\n",
    "\n",
    "<h4>Approach:</h4>\n",
    "<p>\n",
    "The function follows these steps:\n",
    "<ol>\n",
    "    <li>Initialize an empty set to store unique elements.</li>\n",
    "    <li>Use a variable <code>k</code> to keep track of the position where the next unique element should be placed.</li>\n",
    "    <li>Iterate through the list:\n",
    "        <ul>\n",
    "            <li>If an element is not in the set, add it to the set and place it at index <code>k</code> in the list.</li>\n",
    "            <li>Increment <code>k</code> to point to the next available position for a unique element.</li>\n",
    "        </ul>\n",
    "    </li>\n",
    "    <li>After the loop finishes, return <code>k</code>, which represents the count of unique elements in the list.</li>\n",
    "</ol>\n",
    "</p>\n",
    "\n",
    "<h4>Key Points:</h4>\n",
    "<ul>\n",
    "    <li><strong>Set for Uniqueness</strong>: The set ensures that only unique elements are considered.</li>\n",
    "    <li><strong>In-Place Modification</strong>: The list is updated in place by placing unique elements in the correct positions.</li>\n",
    "    <li><strong>Final Result</strong>: The variable <code>k</code> gives the number of unique elements in the list, and the list up to index <code>k</code> contains these unique elements.</li>\n",
    "</ul>\n",
    "\n",
    "<h4>Time Complexity:</h4>\n",
    "<p>\n",
    "The time complexity is <strong>O(n)</strong>, where <code>n</code> is the length of the list. This is because we iterate through the list once and each set operation (insertion and lookup) takes O(1) on average.\n",
    "</p>\n",
    "\n",
    "<h4>Space Complexity:</h4>\n",
    "<p>\n",
    "The space complexity is <strong>O(n)</strong>, where <code>n</code> is the number of unique elements. This is due to the space required to store the unique elements in the set.\n",
    "</p>\n"
   ]
  }
 ],
 "metadata": {
  "kernelspec": {
   "display_name": "Python 3",
   "language": "python",
   "name": "python3"
  },
  "language_info": {
   "codemirror_mode": {
    "name": "ipython",
    "version": 3
   },
   "file_extension": ".py",
   "mimetype": "text/x-python",
   "name": "python",
   "nbconvert_exporter": "python",
   "pygments_lexer": "ipython3",
   "version": "3.11.5"
  }
 },
 "nbformat": 4,
 "nbformat_minor": 2
}
