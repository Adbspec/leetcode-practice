{
 "cells": [
  {
   "cell_type": "code",
   "execution_count": 1,
   "metadata": {},
   "outputs": [],
   "source": [
    "class Solution:\n",
    "    def scoreOfString(self, s: str) -> int:\n",
    "        ans = 0\n",
    "        for i in range(1, len(s)):\n",
    "            ans += abs(ord(s[i]) - ord(s[i-1]))\n",
    "        return ans"
   ]
  },
  {
   "cell_type": "code",
   "execution_count": 6,
   "metadata": {},
   "outputs": [
    {
     "name": "stdout",
     "output_type": "stream",
     "text": [
      "13 50\n"
     ]
    }
   ],
   "source": [
    "solution = Solution()\n",
    "# Input: s = \"hello\"\n",
    "# Output: 13\n",
    "\n",
    "# Input: s = \"zaz\"\n",
    "# Output: 50\n",
    "\n",
    "test_string1 = \"hello\" \n",
    "test_string2 = \"zaz\"\n",
    "print(solution.scoreOfString(test_string1),solution.scoreOfString(test_string2))"
   ]
  },
  {
   "cell_type": "markdown",
   "metadata": {},
   "source": [
    "<h1>Understanding the <code>scoreOfString</code> Function</h1>\n",
    "\n",
    "<h2>Problem Overview</h2>\n",
    "<p>The goal of the <code>scoreOfString</code> function is to compute a score for a given string based on the absolute differences in ASCII values of consecutive characters.</p>\n",
    "\n",
    "<h2>Function Definition</h2>\n",
    "<pre><code class=\"language-python\">class Solution:\n",
    "    def scoreOfString(self, s: str) -> int:\n",
    "        ans = 0\n",
    "        for i in range(1, len(s)):\n",
    "            ans += abs(ord(s[i]) - ord(s[i-1]))\n",
    "        return ans\n",
    "</code></pre>\n",
    "\n",
    "<h2>Explanation of the Function</h2>\n",
    "\n",
    "<h3>Initialization</h3>\n",
    "<pre><code class=\"language-python\">ans = 0\n",
    "</code></pre>\n",
    "<p>We start by initializing a variable <code>ans</code> to 0. This variable will be used to accumulate the score as we compute the absolute differences between consecutive characters.</p>\n",
    "\n",
    "<h3>Loop Through the String</h3>\n",
    "<pre><code class=\"language-python\">for i in range(1, len(s)):\n",
    "</code></pre>\n",
    "<p>We use a for loop that starts from index 1 and goes to the end of the string. The reason we start from index 1 is that we will be comparing each character with its predecessor (the character at index <code>i-1</code>).</p>\n",
    "\n",
    "<h3>Calculate Absolute Difference</h3>\n",
    "<pre><code class=\"language-python\">ans += abs(ord(s[i]) - ord(s[i-1]))\n",
    "</code></pre>\n",
    "<p>Inside the loop, for each character at index <code>i</code>, we calculate the absolute difference between its ASCII value (<code>ord(s[i])</code>) and the ASCII value of the previous character (<code>ord(s[i-1])</code>).\n",
    "The <code>ord()</code> function in Python returns the ASCII value of a character. For example, <code>ord('a')</code> returns 97, <code>ord('b')</code> returns 98, and so forth. We then add this difference to <code>ans</code>.</p>\n",
    "\n",
    "<h3>Return the Result</h3>\n",
    "<pre><code class=\"language-python\">return ans\n",
    "</code></pre>\n",
    "<p>After completing the loop, we return the accumulated score <code>ans</code>, which represents the total score based on the absolute differences of ASCII values of consecutive characters.</p>\n",
    "\n",
    "<h2>Example Walkthrough</h2>\n",
    "<p>Let's go through an example to illustrate how this works.</p>\n",
    "\n",
    "<p>Input: <code>\"abc\"</code></p>\n",
    "\n",
    "<p><strong>Iteration 1 (i = 1):</strong></p>\n",
    "<ul>\n",
    "<li>Compare 'a' (ASCII: 97) and 'b' (ASCII: 98)</li>\n",
    "<li>Score: <code>abs(98 - 97) = 1</code></li>\n",
    "<li>Accumulated score: <code>ans = 0 + 1 = 1</code></li>\n",
    "</ul>\n",
    "\n",
    "<p><strong>Iteration 2 (i = 2):</strong></p>\n",
    "<ul>\n",
    "<li>Compare 'b' (ASCII: 98) and 'c' (ASCII: 99)</li>\n",
    "<li>Score: <code>abs(99 - 98) = 1</code></li>\n",
    "<li>Accumulated score: <code>ans = 1 + 1 = 2</code></li>\n",
    "</ul>\n",
    "\n",
    "<p><strong>Final Output</strong></p>\n",
    "<p>The final output for the input string <code>\"abc\"</code> is <code>2</code>.</p>\n",
    "\n",
    "<h2>Edge Cases</h2>\n",
    "<p>If the input string is empty or has only one character, the score will be <code>0</code> since there are no pairs of characters to compare:</p>\n",
    "<ul>\n",
    "<li><code>scoreOfString(\"\")</code> returns <code>0</code></li>\n",
    "<li><code>scoreOfString(\"a\")</code> returns <code>0</code></li>\n",
    "</ul>\n"
   ]
  }
 ],
 "metadata": {
  "kernelspec": {
   "display_name": "base",
   "language": "python",
   "name": "python3"
  },
  "language_info": {
   "codemirror_mode": {
    "name": "ipython",
    "version": 3
   },
   "file_extension": ".py",
   "mimetype": "text/x-python",
   "name": "python",
   "nbconvert_exporter": "python",
   "pygments_lexer": "ipython3",
   "version": "3.12.4"
  }
 },
 "nbformat": 4,
 "nbformat_minor": 2
}
