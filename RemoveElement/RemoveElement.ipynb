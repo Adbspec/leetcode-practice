{
 "cells": [
  {
   "cell_type": "code",
   "execution_count": 12,
   "metadata": {},
   "outputs": [],
   "source": [
    "from typing import List\n",
    "class Solution:\n",
    "    def removeElement(self, nums: List[int], val: int) -> int:\n",
    "        k = 0\n",
    "        for i in range(len(nums)):\n",
    "            if nums[i] != val:\n",
    "                nums[k] = nums[i]\n",
    "                k += 1\n",
    "        return k"
   ]
  },
  {
   "cell_type": "code",
   "execution_count": 13,
   "metadata": {},
   "outputs": [
    {
     "name": "stdout",
     "output_type": "stream",
     "text": [
      "2 5\n"
     ]
    }
   ],
   "source": [
    "solution = Solution()\n",
    "\n",
    "# Output: 2\n",
    "input1 = [3,2,2,3]\n",
    "val1 = 3 \n",
    "\n",
    "# Output: 5\n",
    "input2 = [0,1,2,2,3,0,4,2]\n",
    "val2 = 2 \n",
    "\n",
    "print(solution.removeElement(input1,val1),solution.removeElement(input2,val2))"
   ]
  },
  {
   "cell_type": "markdown",
   "metadata": {},
   "source": [
    "<h1>Explanation of the <code>removeElement</code> Function</h1>\n",
    "\n",
    "<p>\n",
    "    The <code>removeElement</code> function is designed to remove all instances of a specific value <code>val</code> from a list <code>nums</code> in place, while maintaining the order of the remaining elements. The function returns the new length of the modified list.\n",
    "</p>\n",
    "\n",
    "<h2>Logic Breakdown</h2>\n",
    "\n",
    "<ol>\n",
    "    <li>\n",
    "        <strong>Initialization:</strong><br>\n",
    "        A variable <code>k</code> is initialized to 0. This variable will keep track of the index of the next position to fill with a value that is not equal to <code>val</code>.\n",
    "    </li>\n",
    "    <li>\n",
    "        <strong>Iterate Through the List:</strong><br>\n",
    "        A for loop is used to iterate through each element in the <code>nums</code> list. The loop uses the index <code>i</code> to access each element.\n",
    "    </li>\n",
    "    <li>\n",
    "        <strong>Check for Value:</strong><br>\n",
    "        Inside the loop, a conditional statement checks if the current element <code>nums[i]</code> is not equal to <code>val</code>.\n",
    "        <pre><code>if nums[i] != val:</code></pre>\n",
    "    </li>\n",
    "    <li>\n",
    "        <strong>Update the List:</strong><br>\n",
    "        If the condition is true (the element is not equal to <code>val</code>), the current element is assigned to the index <code>k</code> in the list <code>nums</code>. Then, <code>k</code> is incremented by 1 to move to the next position.\n",
    "        <pre><code>nums[k] = nums[i]<br>k += 1</code></pre>\n",
    "    </li>\n",
    "    <li>\n",
    "        <strong>Return the New Length:</strong><br>\n",
    "        After the loop completes, <code>k</code> will represent the number of elements left in the modified list that are not equal to <code>val</code>. The function then returns <code>k</code>.\n",
    "        <pre><code>return k</code></pre>\n",
    "    </li>\n",
    "</ol>\n",
    "\n",
    "<h2>Example</h2>\n",
    "\n",
    "<p>\n",
    "    Consider the following example:\n",
    "</p>\n",
    "<pre><code>nums = [3, 2, 2, 3]<br>val = 3<br>new_length = solution.removeElement(nums, val)</code></pre>\n",
    "<p>\n",
    "    After executing the function, the modified <code>nums</code> list would be:\n",
    "</p>\n",
    "<pre><code>[2, 2, _, _]  // where _ denotes unused space</code></pre>\n",
    "<p>\n",
    "    And the <code>new_length</code> returned would be <code>2</code>.\n",
    "</p>\n",
    "\n",
    "<h2>Time and Space Complexity</h2>\n",
    "<ul>\n",
    "    <li><strong>Time Complexity:</strong> <code>O(n)</code>, where <code>n</code> is the number of elements in the <code>nums</code> list. The function iterates through the list once.</li>\n",
    "    <li><strong>Space Complexity:</strong> <code>O(1)</code>, as no additional space is used that grows with input size; modifications are made in place.</li>\n",
    "</ul>\n"
   ]
  }
 ],
 "metadata": {
  "kernelspec": {
   "display_name": "Python 3",
   "language": "python",
   "name": "python3"
  },
  "language_info": {
   "codemirror_mode": {
    "name": "ipython",
    "version": 3
   },
   "file_extension": ".py",
   "mimetype": "text/x-python",
   "name": "python",
   "nbconvert_exporter": "python",
   "pygments_lexer": "ipython3",
   "version": "3.11.5"
  }
 },
 "nbformat": 4,
 "nbformat_minor": 2
}
