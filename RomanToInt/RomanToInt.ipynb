{
 "cells": [
  {
   "cell_type": "code",
   "execution_count": 6,
   "metadata": {},
   "outputs": [],
   "source": [
    "class Solution:\n",
    "    def romanToInt(self,s: str) -> int:\n",
    "        roman_dict = {\n",
    "            'I': 1, 'V': 5, 'X': 10, 'L': 50,\n",
    "            'C': 100, 'D': 500, 'M': 1000\n",
    "        }\n",
    "        \n",
    "        total = 0\n",
    "        n = len(s)\n",
    "        \n",
    "        for i in range(n):\n",
    "            if i < n - 1 and roman_dict[s[i]] < roman_dict[s[i + 1]]:\n",
    "                total -= roman_dict[s[i]]\n",
    "            else:\n",
    "                total += roman_dict[s[i]]\n",
    "        \n",
    "        return total\n",
    "\n",
    "        "
   ]
  },
  {
   "cell_type": "code",
   "execution_count": 7,
   "metadata": {},
   "outputs": [
    {
     "name": "stdout",
     "output_type": "stream",
     "text": [
      "3 58\n"
     ]
    }
   ],
   "source": [
    "solution = Solution()\n",
    "\n",
    "# Input: s = \"III\"\n",
    "# Output: 3\n",
    "\n",
    "# Input: s = \"LVIII\"\n",
    "# Output: 58\n",
    "input1 = \"III\" \n",
    "input2 = \"LVIII\"\n",
    "print(solution.romanToInt(input1),solution.romanToInt(input2))"
   ]
  },
  {
   "cell_type": "markdown",
   "metadata": {},
   "source": [
    "<h2>Roman to Integer Conversion Explanation</h2>\n",
    "\n",
    "<h4>Problem Statement:</h4>\n",
    "<p>\n",
    "Roman numerals are represented by seven different symbols: <code>I</code>, <code>V</code>, <code>X</code>, <code>L</code>, <code>C</code>, <code>D</code>, and <code>M</code>. Each symbol has a specific value:\n",
    "<ul>\n",
    "    <li><code>I</code> = 1</li>\n",
    "    <li><code>V</code> = 5</li>\n",
    "    <li><code>X</code> = 10</li>\n",
    "    <li><code>L</code> = 50</li>\n",
    "    <li><code>C</code> = 100</li>\n",
    "    <li><code>D</code> = 500</li>\n",
    "    <li><code>M</code> = 1000</li>\n",
    "</ul>\n",
    "</p>\n",
    "<p>\n",
    "Roman numerals are usually written from largest to smallest, left to right. However, in some cases, subtractive notation is used, where a smaller numeral appears before a larger numeral, indicating that the smaller numeral should be subtracted. For example:\n",
    "<ul>\n",
    "    <li><code>IV</code> = 4 (5 - 1)</li>\n",
    "    <li><code>IX</code> = 9 (10 - 1)</li>\n",
    "</ul>\n",
    "</p>\n",
    "<p>The task is to convert a given Roman numeral string into its corresponding integer value.</p>\n",
    "\n",
    "<h4>Approach:</h4>\n",
    "<p>\n",
    "To solve this problem, we use the following approach:\n",
    "<ol>\n",
    "    <li>\n",
    "        <strong>Mapping Roman Numerals to Integers:</strong><br>\n",
    "        A dictionary is created to map each Roman numeral character to its corresponding integer value.\n",
    "    </li>\n",
    "    <li>\n",
    "        <strong>Iterating Through the String:</strong><br>\n",
    "        We iterate through the Roman numeral string character by character. For each character:\n",
    "        <ul>\n",
    "            <li>We compare its value with the next character's value.</li>\n",
    "            <li>If the current character's value is less than the next character's value, this indicates that we should subtract the current value.</li>\n",
    "            <li>Otherwise, we add the value of the current character to the total sum.</li>\n",
    "        </ul>\n",
    "    </li>\n",
    "    <li>\n",
    "        <strong>Final Total:</strong><br>\n",
    "        Once the entire string is processed, the accumulated value will be the integer representation of the Roman numeral.\n",
    "    </li>\n",
    "</ol>\n",
    "</p>\n",
    "\n",
    "<h4>Example:</h4>\n",
    "<p>\n",
    "For the input \"MCMXCIV\":\n",
    "<ul>\n",
    "    <li><code>M</code> = 1000</li>\n",
    "    <li><code>CM</code> = 900 (since <code>C</code> = 100 and <code>M</code> = 1000, and <code>C</code> comes before <code>M</code>, we subtract 100 from 1000)</li>\n",
    "    <li><code>XC</code> = 90 (since <code>X</code> = 10 and <code>C</code> = 100, and <code>X</code> comes before <code>C</code>, we subtract 10 from 100)</li>\n",
    "    <li><code>IV</code> = 4 (since <code>I</code> = 1 and <code>V</code> = 5, and <code>I</code> comes before <code>V</code>, we subtract 1 from 5)</li>\n",
    "</ul>\n",
    "Adding all of these values together:\n",
    "<ul>\n",
    "    <li>1000 + 900 + 90 + 4 = 1994</li>\n",
    "</ul>\n",
    "Thus, the output for the input \"MCMXCIV\" is <strong>1994</strong>.\n",
    "</p>\n",
    "\n",
    "<h4>Time Complexity:</h4>\n",
    "<p>\n",
    "The time complexity of this algorithm is <strong>O(n)</strong>, where <code>n</code> is the length of the input Roman numeral string. This is because we only iterate through the string once.\n",
    "</p>\n",
    "\n",
    "<h4>Space Complexity:</h4>\n",
    "<p>\n",
    "The space complexity is <strong>O(1)</strong>, since the dictionary size is constant (it only stores seven Roman numerals) and the space used does not depend on the input size.\n",
    "</p>\n"
   ]
  }
 ],
 "metadata": {
  "kernelspec": {
   "display_name": "Python 3",
   "language": "python",
   "name": "python3"
  },
  "language_info": {
   "codemirror_mode": {
    "name": "ipython",
    "version": 3
   },
   "file_extension": ".py",
   "mimetype": "text/x-python",
   "name": "python",
   "nbconvert_exporter": "python",
   "pygments_lexer": "ipython3",
   "version": "3.11.5"
  }
 },
 "nbformat": 4,
 "nbformat_minor": 2
}
